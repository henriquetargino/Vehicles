{
 "cells": [
  {
   "cell_type": "code",
   "execution_count": 16,
   "metadata": {},
   "outputs": [],
   "source": [
    "# bibliotecas\n",
    "import pandas as pd\n",
    "import time\n",
    "# funções \n",
    "from sklearn.model_selection import train_test_split\n",
    "from sklearn.metrics import mean_squared_error\n",
    "\n",
    "# modelos\n",
    "from sklearn.ensemble import RandomForestRegressor\n",
    "from sklearn.linear_model import LinearRegression"
   ]
  },
  {
   "cell_type": "markdown",
   "metadata": {},
   "source": [
    "# Random Forest\n",
    "legenda: treino, teste, erro <br>\n",
    "n_estimators=11, max_depth=27 -> 0.9561394192388954 0.8033285090047751 4352.49603984564 <br>\n",
    "n_estimators=100, max_depth=27 -> 0.9684101236340523 0.8104576261655441 4272.881387475422 <br>\n",
    "# Linear Regression"
   ]
  },
  {
   "cell_type": "code",
   "execution_count": 58,
   "metadata": {},
   "outputs": [],
   "source": [
    "# carregando dataset\n",
    "car_data = pd.read_csv('datasets/car_data.csv')"
   ]
  },
  {
   "cell_type": "code",
   "execution_count": 59,
   "metadata": {},
   "outputs": [],
   "source": [
    "# retirando colunas que não serão utilizadas\n",
    "car_data = car_data.drop(['date_posted', 'days_listed', 'year_posted', 'car_age'] , axis=1)"
   ]
  },
  {
   "cell_type": "code",
   "execution_count": 60,
   "metadata": {},
   "outputs": [],
   "source": [
    "# transformando a coluna condition em numérica colocando \"pesos\" para cada condição\n",
    "condition_mapping = {\n",
    "    \"new\": 5,\n",
    "    \"like new\": 4,\n",
    "    \"excellent\": 3,\n",
    "    \"good\": 2,\n",
    "    \"fair\": 1,\n",
    "    \"salvage\": 0\n",
    "}\n",
    "\n",
    "# atribuindo os valores numéricos ao dataset\n",
    "car_data['condition'] = car_data['condition'].map(condition_mapping)"
   ]
  },
  {
   "cell_type": "code",
   "execution_count": 61,
   "metadata": {},
   "outputs": [],
   "source": [
    "# separando features e target\n",
    "features = car_data.drop('price', axis=1)\n",
    "target = car_data['price']"
   ]
  },
  {
   "cell_type": "code",
   "execution_count": 62,
   "metadata": {},
   "outputs": [],
   "source": [
    "# aplicando One-Hot Encoding nas variáveis categóricas restantes\n",
    "features_encoded = pd.get_dummies(features, columns=['model', 'fuel', 'transmission', 'type', 'paint_color', 'brand'])"
   ]
  },
  {
   "cell_type": "code",
   "execution_count": 63,
   "metadata": {},
   "outputs": [],
   "source": [
    "# separando dados de treino e teste\n",
    "features_train, features_test, target_train, target_test = train_test_split(features_encoded, target, test_size=0.2)"
   ]
  },
  {
   "cell_type": "code",
   "execution_count": 64,
   "metadata": {},
   "outputs": [],
   "source": [
    "model = RandomForestRegressor(random_state=1506, n_estimators=10, max_depth=10)"
   ]
  },
  {
   "cell_type": "code",
   "execution_count": 65,
   "metadata": {},
   "outputs": [
    {
     "data": {
      "text/plain": [
       "6.4792115688323975"
      ]
     },
     "execution_count": 65,
     "metadata": {},
     "output_type": "execute_result"
    }
   ],
   "source": [
    "start = time.time()\n",
    "model.fit(features_train, target_train)\n",
    "end = time.time()\n",
    "tempo = end - start\n",
    "tempo"
   ]
  },
  {
   "cell_type": "code",
   "execution_count": 66,
   "metadata": {},
   "outputs": [
    {
     "name": "stdout",
     "output_type": "stream",
     "text": [
      "0.8568024764335097 0.8035874305818218\n"
     ]
    }
   ],
   "source": [
    "print(model.score(features_train, target_train),\n",
    "model.score(features_test, target_test))"
   ]
  },
  {
   "cell_type": "code",
   "execution_count": 67,
   "metadata": {},
   "outputs": [],
   "source": [
    "predictions = model.predict(features_test)"
   ]
  },
  {
   "cell_type": "code",
   "execution_count": 68,
   "metadata": {},
   "outputs": [
    {
     "data": {
      "text/plain": [
       "4234.942637288347"
      ]
     },
     "execution_count": 68,
     "metadata": {},
     "output_type": "execute_result"
    }
   ],
   "source": [
    "rmse = mean_squared_error(target_test, predictions)** 0.5\n",
    "rmse"
   ]
  },
  {
   "cell_type": "code",
   "execution_count": 70,
   "metadata": {},
   "outputs": [
    {
     "name": "stdout",
     "output_type": "stream",
     "text": [
      "0.9658349285737933 0.8237805675846223 4011.342941563613\n"
     ]
    }
   ],
   "source": [
    "model = RandomForestRegressor(random_state=1506, n_estimators=11, max_depth=27)\n",
    "model.fit(features_train, target_train)\n",
    "predictions_test = model.predict(features_test)\n",
    "error = mean_squared_error(target_test, predictions_test)**0.5\n",
    "print(model.score(features_train, target_train),\n",
    "model.score(features_test, target_test), error)"
   ]
  },
  {
   "cell_type": "code",
   "execution_count": 47,
   "metadata": {},
   "outputs": [
    {
     "name": "stdout",
     "output_type": "stream",
     "text": [
      "Validação de REQM para n_estimators=10, depth=1 é 8372.420786467024\n",
      "Validação de REQM para n_estimators=10, depth=2 é 7293.486121192522\n",
      "Validação de REQM para n_estimators=10, depth=3 é 6686.156222261888\n",
      "Validação de REQM para n_estimators=10, depth=4 é 6058.678566681402\n",
      "Validação de REQM para n_estimators=10, depth=5 é 5651.5092777773325\n",
      "Validação de REQM para n_estimators=10, depth=6 é 5365.463812881679\n",
      "Validação de REQM para n_estimators=10, depth=7 é 5283.55513860902\n",
      "Validação de REQM para n_estimators=10, depth=8 é 4999.464329937562\n",
      "Validação de REQM para n_estimators=10, depth=9 é 4815.976841484313\n",
      "Validação de REQM para n_estimators=10, depth=10 é 4701.977961654055\n",
      "Validação de REQM para n_estimators=10, depth=11 é 4580.912346824\n",
      "Validação de REQM para n_estimators=10, depth=12 é 4561.559770228928\n",
      "Validação de REQM para n_estimators=10, depth=13 é 4480.439271192303\n",
      "Validação de REQM para n_estimators=10, depth=14 é 4426.94264803204\n",
      "Validação de REQM para n_estimators=11, depth=1 é 8372.382954637822\n",
      "Validação de REQM para n_estimators=11, depth=2 é 7279.097875700683\n",
      "Validação de REQM para n_estimators=11, depth=3 é 6665.259302765582\n",
      "Validação de REQM para n_estimators=11, depth=4 é 6058.145688976193\n",
      "Validação de REQM para n_estimators=11, depth=5 é 5655.59871014974\n",
      "Validação de REQM para n_estimators=11, depth=6 é 5368.165848394297\n",
      "Validação de REQM para n_estimators=11, depth=7 é 5264.082941325861\n",
      "Validação de REQM para n_estimators=11, depth=8 é 4952.0934658882525\n",
      "Validação de REQM para n_estimators=11, depth=9 é 4769.581613519562\n",
      "Validação de REQM para n_estimators=11, depth=10 é 4661.572867084307\n",
      "Validação de REQM para n_estimators=11, depth=11 é 4553.532268103547\n",
      "Validação de REQM para n_estimators=11, depth=12 é 4512.0585505641775\n",
      "Validação de REQM para n_estimators=11, depth=13 é 4440.472375156537\n",
      "Validação de REQM para n_estimators=11, depth=14 é 4391.474732337674\n",
      "Validação de REQM para n_estimators=12, depth=1 é 8372.37490497976\n",
      "Validação de REQM para n_estimators=12, depth=2 é 7270.764675445917\n",
      "Validação de REQM para n_estimators=12, depth=3 é 6652.4525875151585\n",
      "Validação de REQM para n_estimators=12, depth=4 é 6052.943593224252\n",
      "Validação de REQM para n_estimators=12, depth=5 é 5656.940985974928\n",
      "Validação de REQM para n_estimators=12, depth=6 é 5363.055382391476\n",
      "Validação de REQM para n_estimators=12, depth=7 é 5253.4298968672\n",
      "Validação de REQM para n_estimators=12, depth=8 é 4961.9599466443315\n",
      "Validação de REQM para n_estimators=12, depth=9 é 4775.665470264897\n",
      "Validação de REQM para n_estimators=12, depth=10 é 4666.746809379511\n",
      "Validação de REQM para n_estimators=12, depth=11 é 4573.707412944511\n",
      "Validação de REQM para n_estimators=12, depth=12 é 4525.229196524951\n",
      "Validação de REQM para n_estimators=12, depth=13 é 4454.522541122942\n",
      "Validação de REQM para n_estimators=12, depth=14 é 4405.539987150157\n",
      "Validação de REQM para n_estimators=13, depth=1 é 8372.470126865328\n",
      "Validação de REQM para n_estimators=13, depth=2 é 7274.283484145592\n",
      "Validação de REQM para n_estimators=13, depth=3 é 6659.317398574165\n",
      "Validação de REQM para n_estimators=13, depth=4 é 6057.16538651727\n",
      "Validação de REQM para n_estimators=13, depth=5 é 5654.849623353244\n",
      "Validação de REQM para n_estimators=13, depth=6 é 5362.20737446117\n",
      "Validação de REQM para n_estimators=13, depth=7 é 5274.46670169862\n",
      "Validação de REQM para n_estimators=13, depth=8 é 4957.068732290692\n",
      "Validação de REQM para n_estimators=13, depth=9 é 4773.693142467409\n",
      "Validação de REQM para n_estimators=13, depth=10 é 4665.367784263321\n",
      "Validação de REQM para n_estimators=13, depth=11 é 4571.41270624458\n",
      "Validação de REQM para n_estimators=13, depth=12 é 4525.2201188717\n",
      "Validação de REQM para n_estimators=13, depth=13 é 4455.726432036799\n",
      "Validação de REQM para n_estimators=13, depth=14 é 4403.760815672493\n",
      "Validação de REQM para n_estimators=14, depth=1 é 8372.530172793751\n",
      "Validação de REQM para n_estimators=14, depth=2 é 7268.080672909345\n",
      "Validação de REQM para n_estimators=14, depth=3 é 6648.736884695151\n",
      "Validação de REQM para n_estimators=14, depth=4 é 6052.366549533353\n",
      "Validação de REQM para n_estimators=14, depth=5 é 5651.320749874277\n",
      "Validação de REQM para n_estimators=14, depth=6 é 5356.957676721563\n",
      "Validação de REQM para n_estimators=14, depth=7 é 5288.528281718083\n",
      "Validação de REQM para n_estimators=14, depth=8 é 4957.365602990325\n",
      "Validação de REQM para n_estimators=14, depth=9 é 4774.397369672721\n",
      "Validação de REQM para n_estimators=14, depth=10 é 4668.964859567359\n",
      "Validação de REQM para n_estimators=14, depth=11 é 4573.095489590131\n",
      "Validação de REQM para n_estimators=14, depth=12 é 4524.908173044826\n",
      "Validação de REQM para n_estimators=14, depth=13 é 4455.455355140285\n",
      "Validação de REQM para n_estimators=14, depth=14 é 4404.893407636062\n",
      "Melhor REQM de teste: 4391.474732337674 com n_estimators=11 e max_depth=14\n"
     ]
    }
   ],
   "source": [
    "# célula para encontrar os melhores hiperparâmetros\n",
    "\n",
    "best_error = float('inf')\n",
    "best_est = 0\n",
    "best_depth = 0\n",
    "\n",
    "for est in range(10, 101, 5):\n",
    "    for depth in range(20, 31):\n",
    "        model = RandomForestRegressor(random_state=1506, n_estimators=est, max_depth=depth)\n",
    "        model.fit(features_train, target_train)\n",
    "        predictions_test = model.predict(features_test)\n",
    "        error = mean_squared_error(target_test, predictions_test)**0.5\n",
    "        print(f\"Validação de REQM para n_estimators={est}, depth={depth} é {error}\")\n",
    "        if error < best_error:\n",
    "            best_error = error\n",
    "            best_est = est\n",
    "            best_depth = depth\n",
    "\n",
    "print(f\"Melhor REQM de teste: {best_error} com n_estimators={best_est} e max_depth={best_depth}\")"
   ]
  }
 ],
 "metadata": {
  "kernelspec": {
   "display_name": "Vehicles",
   "language": "python",
   "name": "python3"
  },
  "language_info": {
   "codemirror_mode": {
    "name": "ipython",
    "version": 3
   },
   "file_extension": ".py",
   "mimetype": "text/x-python",
   "name": "python",
   "nbconvert_exporter": "python",
   "pygments_lexer": "ipython3",
   "version": "3.11.11"
  }
 },
 "nbformat": 4,
 "nbformat_minor": 2
}
