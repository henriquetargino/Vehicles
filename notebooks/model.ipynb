{
 "cells": [
  {
   "cell_type": "code",
   "execution_count": 16,
   "metadata": {},
   "outputs": [],
   "source": [
    "# bibliotecas\n",
    "import pandas as pd\n",
    "import time\n",
    "# funções \n",
    "from sklearn.model_selection import train_test_split\n",
    "from sklearn.metrics import mean_squared_error\n",
    "\n",
    "# modelos\n",
    "from sklearn.ensemble import RandomForestRegressor\n",
    "from sklearn.linear_model import LinearRegression"
   ]
  },
  {
   "cell_type": "code",
   "execution_count": 17,
   "metadata": {},
   "outputs": [],
   "source": [
    "# carregando dataset\n",
    "car_data = pd.read_csv('datasets/car_data.csv')"
   ]
  },
  {
   "cell_type": "code",
   "execution_count": 18,
   "metadata": {},
   "outputs": [],
   "source": [
    "# retirando colunas que não serão utilizadas\n",
    "car_data = car_data.drop(['date_posted', 'days_listed', 'year_posted', 'car_age'] , axis=1)"
   ]
  },
  {
   "cell_type": "code",
   "execution_count": 19,
   "metadata": {},
   "outputs": [],
   "source": [
    "# transformando a coluna condition em numérica colocando \"pesos\" para cada condição\n",
    "condition_mapping = {\n",
    "    \"new\": 5,\n",
    "    \"like new\": 4,\n",
    "    \"excellent\": 3,\n",
    "    \"good\": 2,\n",
    "    \"fair\": 1,\n",
    "    \"salvage\": 0\n",
    "}\n",
    "\n",
    "# atribuindo os valores numéricos ao dataset\n",
    "car_data['condition'] = car_data['condition'].map(condition_mapping)"
   ]
  },
  {
   "cell_type": "code",
   "execution_count": 20,
   "metadata": {},
   "outputs": [],
   "source": [
    "# separando features e target\n",
    "features = car_data.drop('price', axis=1)\n",
    "target = car_data['price']"
   ]
  },
  {
   "cell_type": "code",
   "execution_count": 21,
   "metadata": {},
   "outputs": [],
   "source": [
    "# aplicando One-Hot Encoding nas variáveis categóricas restantes\n",
    "features_encoded = pd.get_dummies(features, columns=['model', 'fuel', 'transmission', 'type', 'paint_color', 'brand'])"
   ]
  },
  {
   "cell_type": "code",
   "execution_count": 22,
   "metadata": {},
   "outputs": [],
   "source": [
    "# separando dados de treino e teste\n",
    "features_train, features_test, target_train, target_test = train_test_split(features_encoded, target, test_size=0.2)"
   ]
  },
  {
   "cell_type": "code",
   "execution_count": 23,
   "metadata": {},
   "outputs": [],
   "source": [
    "model = RandomForestRegressor(random_state=1506, n_estimators=10, max_depth=10)"
   ]
  },
  {
   "cell_type": "code",
   "execution_count": 24,
   "metadata": {},
   "outputs": [
    {
     "data": {
      "text/plain": [
       "8.836139440536499"
      ]
     },
     "execution_count": 24,
     "metadata": {},
     "output_type": "execute_result"
    }
   ],
   "source": [
    "start = time.time()\n",
    "model.fit(features_train, target_train)\n",
    "end = time.time()\n",
    "tempo = end - start\n",
    "tempo"
   ]
  },
  {
   "cell_type": "code",
   "execution_count": 28,
   "metadata": {},
   "outputs": [
    {
     "name": "stdout",
     "output_type": "stream",
     "text": [
      "0.8514870700700528 0.7704772073396587\n"
     ]
    }
   ],
   "source": [
    "print(model.score(features_train, target_train),\n",
    "model.score(features_test, target_test))"
   ]
  },
  {
   "cell_type": "code",
   "execution_count": 26,
   "metadata": {},
   "outputs": [],
   "source": [
    "predictions = model.predict(features_test)"
   ]
  },
  {
   "cell_type": "code",
   "execution_count": 30,
   "metadata": {},
   "outputs": [
    {
     "data": {
      "text/plain": [
       "4701.977961654055"
      ]
     },
     "execution_count": 30,
     "metadata": {},
     "output_type": "execute_result"
    }
   ],
   "source": [
    "rmse = mean_squared_error(target_test, predictions)** 0.5\n",
    "rmse"
   ]
  },
  {
   "cell_type": "code",
   "execution_count": null,
   "metadata": {},
   "outputs": [
    {
     "name": "stdout",
     "output_type": "stream",
     "text": [
      "Validação de REQM para n_estimators=10, depth=1 é 8372.527596266022\n",
      "Validação de REQM para n_estimators=10, depth=2 é 7268.29499800642\n",
      "Validação de REQM para n_estimators=10, depth=3 é 6654.33791763357\n",
      "Validação de REQM para n_estimators=10, depth=4 é 6092.047889008549\n",
      "Validação de REQM para n_estimators=10, depth=5 é 5670.073759653454\n",
      "Validação de REQM para n_estimators=10, depth=6 é 5367.713272884528\n",
      "Validação de REQM para n_estimators=10, depth=7 é 5188.39130285222\n",
      "Validação de REQM para n_estimators=10, depth=8 é 4868.460811112669\n",
      "Validação de REQM para n_estimators=10, depth=9 é 4698.101843384844\n",
      "Validação de REQM para n_estimators=10, depth=10 é 4619.633937610216\n",
      "Validação de REQM para n_estimators=10, depth=11 é 4522.472290044924\n",
      "Validação de REQM para n_estimators=10, depth=12 é 4474.71152235721\n",
      "Validação de REQM para n_estimators=10, depth=13 é 4437.302212304074\n",
      "Validação de REQM para n_estimators=10, depth=14 é 4455.192261791265\n",
      "Validação de REQM para n_estimators=10, depth=15 é 4391.703309935129\n",
      "Validação de REQM para n_estimators=20, depth=1 é 8372.268285540435\n",
      "Validação de REQM para n_estimators=20, depth=2 é 7273.870944293954\n",
      "Validação de REQM para n_estimators=20, depth=3 é 6634.768380156036\n",
      "Validação de REQM para n_estimators=20, depth=4 é 6083.311715054963\n",
      "Validação de REQM para n_estimators=20, depth=5 é 5671.571490287033\n",
      "Validação de REQM para n_estimators=20, depth=6 é 5363.105127563315\n",
      "Validação de REQM para n_estimators=20, depth=7 é 5109.730707745296\n",
      "Validação de REQM para n_estimators=20, depth=8 é 4838.287644178611\n",
      "Validação de REQM para n_estimators=20, depth=9 é 4698.544831204283\n",
      "Validação de REQM para n_estimators=20, depth=10 é 4583.653117263024\n",
      "Validação de REQM para n_estimators=20, depth=11 é 4490.571047107989\n",
      "Validação de REQM para n_estimators=20, depth=12 é 4433.14389242892\n",
      "Validação de REQM para n_estimators=20, depth=13 é 4389.918602658518\n",
      "Validação de REQM para n_estimators=20, depth=14 é 4381.79536369657\n",
      "Validação de REQM para n_estimators=20, depth=15 é 4365.757053146084\n",
      "Validação de REQM para n_estimators=30, depth=1 é 8372.266267847692\n",
      "Validação de REQM para n_estimators=30, depth=2 é 7259.088640657762\n",
      "Validação de REQM para n_estimators=30, depth=3 é 6611.119749728801\n",
      "Validação de REQM para n_estimators=30, depth=4 é 6053.318779097102\n",
      "Validação de REQM para n_estimators=30, depth=5 é 5650.34582967007\n",
      "Validação de REQM para n_estimators=30, depth=6 é 5347.46587045321\n",
      "Validação de REQM para n_estimators=30, depth=7 é 5122.987670256806\n",
      "Validação de REQM para n_estimators=30, depth=8 é 4854.097845632893\n",
      "Validação de REQM para n_estimators=30, depth=9 é 4701.961062736964\n",
      "Validação de REQM para n_estimators=30, depth=10 é 4629.497827219722\n",
      "Validação de REQM para n_estimators=30, depth=11 é 4493.182765559969\n",
      "Validação de REQM para n_estimators=30, depth=12 é 4443.353960626108\n",
      "Validação de REQM para n_estimators=30, depth=13 é 4420.360331375335\n",
      "Validação de REQM para n_estimators=30, depth=14 é 4391.458107333705\n",
      "Validação de REQM para n_estimators=30, depth=15 é 4371.575724951103\n",
      "Validação de REQM para n_estimators=40, depth=1 é 8372.286732945126\n",
      "Validação de REQM para n_estimators=40, depth=2 é 7252.699546668348\n",
      "Validação de REQM para n_estimators=40, depth=3 é 6601.80929655221\n",
      "Validação de REQM para n_estimators=40, depth=4 é 6046.361048240132\n",
      "Validação de REQM para n_estimators=40, depth=5 é 5645.784431523066\n",
      "Validação de REQM para n_estimators=40, depth=6 é 5345.883573028862\n",
      "Validação de REQM para n_estimators=40, depth=7 é 5122.378270381232\n",
      "Validação de REQM para n_estimators=40, depth=8 é 4843.2779840224275\n",
      "Validação de REQM para n_estimators=40, depth=9 é 4686.875800493239\n",
      "Validação de REQM para n_estimators=40, depth=10 é 4619.745455461231\n",
      "Validação de REQM para n_estimators=40, depth=11 é 4489.425489659171\n",
      "Validação de REQM para n_estimators=40, depth=12 é 4440.357737972443\n",
      "Validação de REQM para n_estimators=40, depth=13 é 4392.288152224445\n",
      "Validação de REQM para n_estimators=40, depth=14 é 4372.290533337362\n",
      "Validação de REQM para n_estimators=40, depth=15 é 4357.420730432889\n",
      "Validação de REQM para n_estimators=50, depth=1 é 8372.324571393188\n",
      "Validação de REQM para n_estimators=50, depth=2 é 7254.032098060723\n",
      "Validação de REQM para n_estimators=50, depth=3 é 6603.758872809333\n",
      "Validação de REQM para n_estimators=50, depth=4 é 6049.253720219394\n",
      "Validação de REQM para n_estimators=50, depth=5 é 5650.241355670102\n",
      "Validação de REQM para n_estimators=50, depth=6 é 5347.498619871242\n",
      "Validação de REQM para n_estimators=50, depth=7 é 5125.69176738019\n",
      "Validação de REQM para n_estimators=50, depth=8 é 4846.3968797777925\n",
      "Validação de REQM para n_estimators=50, depth=9 é 4689.381558875843\n",
      "Validação de REQM para n_estimators=50, depth=10 é 4611.379787729461\n",
      "Validação de REQM para n_estimators=50, depth=11 é 4505.851062249632\n",
      "Validação de REQM para n_estimators=50, depth=12 é 4466.754961697744\n",
      "Validação de REQM para n_estimators=50, depth=13 é 4392.526450059793\n",
      "Validação de REQM para n_estimators=50, depth=14 é 4372.29134295466\n"
     ]
    }
   ],
   "source": [
    "# Inicializar variáveis para armazenar os melhores hiperparâmetros\n",
    "best_error = float('inf')\n",
    "best_est = 0\n",
    "best_depth = 0\n",
    "\n",
    "# Loop para encontrar os melhores hiperparâmetros\n",
    "for est in range(10, 101, 10):\n",
    "    for depth in range(1, 16):\n",
    "        model = RandomForestRegressor(random_state=54321, n_estimators=est, max_depth=depth)\n",
    "        model.fit(features_train, target_train)\n",
    "        predictions_test = model.predict(features_test)\n",
    "        error = mean_squared_error(target_test, predictions_test)**0.5\n",
    "        print(f\"Validação de REQM para n_estimators={est}, depth={depth} é {error}\")\n",
    "        if error < best_error:\n",
    "            best_error = error\n",
    "            best_est = est\n",
    "            best_depth = depth\n",
    "\n",
    "print(f\"Melhor REQM de teste: {best_error} com n_estimators={best_est} e max_depth={best_depth}\")"
   ]
  }
 ],
 "metadata": {
  "kernelspec": {
   "display_name": "Vehicles",
   "language": "python",
   "name": "python3"
  },
  "language_info": {
   "codemirror_mode": {
    "name": "ipython",
    "version": 3
   },
   "file_extension": ".py",
   "mimetype": "text/x-python",
   "name": "python",
   "nbconvert_exporter": "python",
   "pygments_lexer": "ipython3",
   "version": "3.11.11"
  }
 },
 "nbformat": 4,
 "nbformat_minor": 2
}
