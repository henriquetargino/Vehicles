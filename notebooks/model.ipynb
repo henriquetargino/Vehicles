{
 "cells": [
  {
   "cell_type": "code",
   "execution_count": 2,
   "metadata": {},
   "outputs": [],
   "source": [
    "# bibliotecas\n",
    "import pandas as pd\n",
    "import time\n",
    "import pickle\n",
    "\n",
    "# funções \n",
    "from sklearn.model_selection import train_test_split\n",
    "from sklearn.metrics import mean_squared_error, mean_absolute_error\n",
    "\n",
    "# modelos\n",
    "from sklearn.ensemble import RandomForestRegressor\n",
    "from sklearn.linear_model import LinearRegression"
   ]
  },
  {
   "cell_type": "markdown",
   "metadata": {},
   "source": [
    "|             | Random Forest(est= 11, depth=27)   | Random Forest(est=100, depth=27)  | LinearRegression(fit_intercept, jobs=-1)   |\n",
    "|-------------|------------|------------|------------|\n",
    "| train_score     | 🟨0.9699817221823089    | 🟩0.9764383475241958    | 🟥0.720336930225542    |\n",
    "| test_score     | 🟨0.8545331007661833    |🟩0.8642377492706509    | 🟥0.7211501035967206    |\n",
    "| MAE($)  | 🟨1795.9145966752583    | 🟩1730.1057586683519    | 🟥2838.1486088502406    |\n",
    "| time(s)     | 🟨8.10574460029602    | 🟥66.94056940078735    | 🟩0.4054858684539795    |"
   ]
  },
  {
   "cell_type": "markdown",
   "metadata": {},
   "source": [
    "### Célula usada para encontrar os melhores hiperparâmetros da Random Forest\n",
    "\n",
    "```best_error = float('inf')\n",
    "best_est = 0\n",
    "best_depth = 0\n",
    "\n",
    "for est in range(10, 101, 5):\n",
    "    for depth in range(20, 31):\n",
    "        model = RandomForestRegressor(random_state=1506, n_estimators=est, max_depth=depth)\n",
    "        model.fit(features_train, target_train)\n",
    "        predictions_test = model.predict(features_test)\n",
    "        error = mean_squared_error(target_test, predictions_test)**0.5\n",
    "        print(f\"Validação de REQM para n_estimators={est}, depth={depth} é {error}\")\n",
    "        if error < best_error:\n",
    "            best_error = error\n",
    "            best_est = est\n",
    "            best_depth = depth\n",
    "\n",
    "print(f\"Melhor REQM de teste: {best_error} com n_estimators={best_est} e max_depth={best_depth}\")\n",
    "```"
   ]
  },
  {
   "cell_type": "markdown",
   "metadata": {},
   "source": [
    "# Melhor modelo"
   ]
  },
  {
   "cell_type": "code",
   "execution_count": 3,
   "metadata": {},
   "outputs": [],
   "source": [
    "# carregando dataset\n",
    "car_data = pd.read_csv('datasets/car_data.csv')"
   ]
  },
  {
   "cell_type": "code",
   "execution_count": 4,
   "metadata": {},
   "outputs": [],
   "source": [
    "# retirando colunas que não serão utilizadas\n",
    "car_data = car_data.drop(['date_posted', 'days_listed', 'year_posted', 'car_age'] , axis=1)"
   ]
  },
  {
   "cell_type": "code",
   "execution_count": 5,
   "metadata": {},
   "outputs": [],
   "source": [
    "# Identificar outliers usando IQR\n",
    "Q1 = car_data['price'].quantile(0.25)\n",
    "Q3 = car_data['price'].quantile(0.75)\n",
    "IQR = Q3 - Q1\n",
    "\n",
    "# Filtrar outliers\n",
    "car_data = car_data[~((car_data['price'] < (Q1 - 1.5 * IQR)) | (car_data['price'] > (Q3 + 1.5 * IQR)))]"
   ]
  },
  {
   "cell_type": "code",
   "execution_count": 6,
   "metadata": {},
   "outputs": [],
   "source": [
    "# trocar todos os espaços por underlines\n",
    "car_data.columns = car_data.columns.str.replace(' ', '_') \n",
    "# trocar todos os espaços por underlines nas linhas\n",
    "car_data['model'] = car_data['model'].str.replace(' ', '_')\n"
   ]
  },
  {
   "cell_type": "code",
   "execution_count": 7,
   "metadata": {},
   "outputs": [],
   "source": [
    "# transformando a coluna condition em numérica colocando \"pesos\" para cada condição\n",
    "condition_mapping = {\n",
    "    \"new\": 5,\n",
    "    \"like new\": 4,\n",
    "    \"excellent\": 3,\n",
    "    \"good\": 2,\n",
    "    \"fair\": 1,\n",
    "    \"salvage\": 0\n",
    "}\n",
    "\n",
    "# atribuindo os valores numéricos ao dataset\n",
    "car_data['condition'] = car_data['condition'].map(condition_mapping)"
   ]
  },
  {
   "cell_type": "code",
   "execution_count": 8,
   "metadata": {},
   "outputs": [],
   "source": [
    "# separando features e target\n",
    "features = car_data.drop('price', axis=1)\n",
    "target = car_data['price']"
   ]
  },
  {
   "cell_type": "code",
   "execution_count": 9,
   "metadata": {},
   "outputs": [],
   "source": [
    "# aplicando One-Hot Encoding nas variáveis categóricas restantes\n",
    "features_encoded = pd.get_dummies(features, columns=['model', 'fuel', 'transmission', 'type', 'paint_color', 'brand'])"
   ]
  },
  {
   "cell_type": "code",
   "execution_count": 10,
   "metadata": {},
   "outputs": [],
   "source": [
    "# separando dados de treino e teste\n",
    "features_train, features_test, target_train, target_test = train_test_split(features_encoded, target, test_size=0.2, random_state=1506, shuffle=True)"
   ]
  },
  {
   "cell_type": "code",
   "execution_count": 11,
   "metadata": {},
   "outputs": [],
   "source": [
    "model = RandomForestRegressor(random_state=1506, n_estimators=11, max_depth=27, n_jobs=-1)"
   ]
  },
  {
   "cell_type": "code",
   "execution_count": 12,
   "metadata": {},
   "outputs": [
    {
     "data": {
      "text/plain": [
       "3.8985562324523926"
      ]
     },
     "execution_count": 12,
     "metadata": {},
     "output_type": "execute_result"
    }
   ],
   "source": [
    "start = time.time()\n",
    "model.fit(features_train, target_train)\n",
    "end = time.time()\n",
    "tempo = end - start\n",
    "tempo"
   ]
  },
  {
   "cell_type": "code",
   "execution_count": 13,
   "metadata": {},
   "outputs": [
    {
     "name": "stdout",
     "output_type": "stream",
     "text": [
      "0.9699817221823089 0.8545331007661833\n"
     ]
    }
   ],
   "source": [
    "print(model.score(features_train, target_train),\n",
    "model.score(features_test, target_test))"
   ]
  },
  {
   "cell_type": "code",
   "execution_count": 14,
   "metadata": {},
   "outputs": [
    {
     "name": "stdout",
     "output_type": "stream",
     "text": [
      "[19900.         28466.61043674  4698.45454545 ...  8359.08431477\n",
      "  5525.14146465 13956.73783287]\n"
     ]
    }
   ],
   "source": [
    "predictions = model.predict(features_test)\n",
    "print(predictions)"
   ]
  },
  {
   "cell_type": "code",
   "execution_count": 15,
   "metadata": {},
   "outputs": [
    {
     "name": "stdout",
     "output_type": "stream",
     "text": [
      "33882    19900\n",
      "14809    34000\n",
      "32496     1800\n",
      "28582     2900\n",
      "7332     25900\n",
      "         ...  \n",
      "36037    12000\n",
      "49324     5200\n",
      "22230     9900\n",
      "49193     4900\n",
      "38880    12500\n",
      "Name: price, Length: 9759, dtype: int64\n"
     ]
    }
   ],
   "source": [
    "print(target_test)"
   ]
  },
  {
   "cell_type": "code",
   "execution_count": 16,
   "metadata": {},
   "outputs": [
    {
     "name": "stdout",
     "output_type": "stream",
     "text": [
      " RMSE: 2913.364558864547 \n",
      " MAE: 1795.9145966752583\n"
     ]
    }
   ],
   "source": [
    "rmse = mean_squared_error(target_test, predictions)**0.5\n",
    "mae = mean_absolute_error(target_test, predictions)\n",
    "print(f' RMSE: {rmse} \\n MAE: {mae}')"
   ]
  },
  {
   "cell_type": "markdown",
   "metadata": {},
   "source": [
    "# Salvando Dataset"
   ]
  },
  {
   "cell_type": "code",
   "execution_count": 17,
   "metadata": {},
   "outputs": [],
   "source": [
    "car_data = car_data.drop(['price'], axis=1)"
   ]
  },
  {
   "cell_type": "markdown",
   "metadata": {},
   "source": [
    "# Salvando Modelo"
   ]
  },
  {
   "cell_type": "code",
   "execution_count": 18,
   "metadata": {},
   "outputs": [],
   "source": [
    "#car_data.to_csv('model.csv', index=False)"
   ]
  },
  {
   "cell_type": "code",
   "execution_count": 19,
   "metadata": {},
   "outputs": [],
   "source": [
    "df_structure = features_encoded.drop(features_encoded.index)"
   ]
  },
  {
   "cell_type": "code",
   "execution_count": 20,
   "metadata": {},
   "outputs": [],
   "source": [
    "#df_structure.to_csv('structure.csv', index=False)"
   ]
  },
  {
   "cell_type": "code",
   "execution_count": 21,
   "metadata": {},
   "outputs": [],
   "source": [
    "# Saving model to pickle file\n",
    "with open(\"predict.pkl\", \"wb\") as file: # file is a variable for storing the newly created file, it can be anything.\n",
    "    pickle.dump(model, file) # Dump function is used to write the object into the created file in byte format."
   ]
  },
  {
   "cell_type": "code",
   "execution_count": 22,
   "metadata": {},
   "outputs": [
    {
     "data": {
      "text/html": [
       "<div>\n",
       "<style scoped>\n",
       "    .dataframe tbody tr th:only-of-type {\n",
       "        vertical-align: middle;\n",
       "    }\n",
       "\n",
       "    .dataframe tbody tr th {\n",
       "        vertical-align: top;\n",
       "    }\n",
       "\n",
       "    .dataframe thead th {\n",
       "        text-align: right;\n",
       "    }\n",
       "</style>\n",
       "<table border=\"1\" class=\"dataframe\">\n",
       "  <thead>\n",
       "    <tr style=\"text-align: right;\">\n",
       "      <th></th>\n",
       "      <th>model_year</th>\n",
       "      <th>condition</th>\n",
       "      <th>cylinders</th>\n",
       "      <th>odometer</th>\n",
       "      <th>is_4wd</th>\n",
       "      <th>model_acura_tl</th>\n",
       "      <th>model_bmw_x5</th>\n",
       "      <th>model_buick_enclave</th>\n",
       "      <th>model_cadillac_escalade</th>\n",
       "      <th>model_chevrolet_camaro</th>\n",
       "      <th>...</th>\n",
       "      <th>brand_gmc</th>\n",
       "      <th>brand_honda</th>\n",
       "      <th>brand_hyundai</th>\n",
       "      <th>brand_jeep</th>\n",
       "      <th>brand_kia</th>\n",
       "      <th>brand_nissan</th>\n",
       "      <th>brand_ram</th>\n",
       "      <th>brand_subaru</th>\n",
       "      <th>brand_toyota</th>\n",
       "      <th>brand_volkswagen</th>\n",
       "    </tr>\n",
       "  </thead>\n",
       "  <tbody>\n",
       "    <tr>\n",
       "      <th>36479</th>\n",
       "      <td>2011</td>\n",
       "      <td>3</td>\n",
       "      <td>8</td>\n",
       "      <td>181318</td>\n",
       "      <td>1</td>\n",
       "      <td>False</td>\n",
       "      <td>False</td>\n",
       "      <td>False</td>\n",
       "      <td>False</td>\n",
       "      <td>False</td>\n",
       "      <td>...</td>\n",
       "      <td>False</td>\n",
       "      <td>False</td>\n",
       "      <td>False</td>\n",
       "      <td>False</td>\n",
       "      <td>False</td>\n",
       "      <td>False</td>\n",
       "      <td>False</td>\n",
       "      <td>False</td>\n",
       "      <td>False</td>\n",
       "      <td>False</td>\n",
       "    </tr>\n",
       "    <tr>\n",
       "      <th>30942</th>\n",
       "      <td>2018</td>\n",
       "      <td>4</td>\n",
       "      <td>6</td>\n",
       "      <td>37650</td>\n",
       "      <td>0</td>\n",
       "      <td>False</td>\n",
       "      <td>False</td>\n",
       "      <td>False</td>\n",
       "      <td>False</td>\n",
       "      <td>False</td>\n",
       "      <td>...</td>\n",
       "      <td>False</td>\n",
       "      <td>False</td>\n",
       "      <td>False</td>\n",
       "      <td>False</td>\n",
       "      <td>False</td>\n",
       "      <td>False</td>\n",
       "      <td>False</td>\n",
       "      <td>False</td>\n",
       "      <td>False</td>\n",
       "      <td>False</td>\n",
       "    </tr>\n",
       "    <tr>\n",
       "      <th>19752</th>\n",
       "      <td>2009</td>\n",
       "      <td>2</td>\n",
       "      <td>6</td>\n",
       "      <td>133000</td>\n",
       "      <td>0</td>\n",
       "      <td>False</td>\n",
       "      <td>False</td>\n",
       "      <td>False</td>\n",
       "      <td>False</td>\n",
       "      <td>False</td>\n",
       "      <td>...</td>\n",
       "      <td>False</td>\n",
       "      <td>False</td>\n",
       "      <td>False</td>\n",
       "      <td>False</td>\n",
       "      <td>False</td>\n",
       "      <td>False</td>\n",
       "      <td>False</td>\n",
       "      <td>False</td>\n",
       "      <td>False</td>\n",
       "      <td>False</td>\n",
       "    </tr>\n",
       "    <tr>\n",
       "      <th>32121</th>\n",
       "      <td>2001</td>\n",
       "      <td>1</td>\n",
       "      <td>4</td>\n",
       "      <td>200000</td>\n",
       "      <td>0</td>\n",
       "      <td>False</td>\n",
       "      <td>False</td>\n",
       "      <td>False</td>\n",
       "      <td>False</td>\n",
       "      <td>False</td>\n",
       "      <td>...</td>\n",
       "      <td>False</td>\n",
       "      <td>False</td>\n",
       "      <td>False</td>\n",
       "      <td>False</td>\n",
       "      <td>False</td>\n",
       "      <td>False</td>\n",
       "      <td>False</td>\n",
       "      <td>False</td>\n",
       "      <td>False</td>\n",
       "      <td>True</td>\n",
       "    </tr>\n",
       "    <tr>\n",
       "      <th>38071</th>\n",
       "      <td>2017</td>\n",
       "      <td>3</td>\n",
       "      <td>8</td>\n",
       "      <td>50000</td>\n",
       "      <td>0</td>\n",
       "      <td>False</td>\n",
       "      <td>False</td>\n",
       "      <td>False</td>\n",
       "      <td>False</td>\n",
       "      <td>False</td>\n",
       "      <td>...</td>\n",
       "      <td>False</td>\n",
       "      <td>False</td>\n",
       "      <td>False</td>\n",
       "      <td>False</td>\n",
       "      <td>False</td>\n",
       "      <td>False</td>\n",
       "      <td>False</td>\n",
       "      <td>False</td>\n",
       "      <td>True</td>\n",
       "      <td>False</td>\n",
       "    </tr>\n",
       "  </tbody>\n",
       "</table>\n",
       "<p>5 rows × 156 columns</p>\n",
       "</div>"
      ],
      "text/plain": [
       "       model_year  condition  cylinders  odometer  is_4wd  model_acura_tl  \\\n",
       "36479        2011          3          8    181318       1           False   \n",
       "30942        2018          4          6     37650       0           False   \n",
       "19752        2009          2          6    133000       0           False   \n",
       "32121        2001          1          4    200000       0           False   \n",
       "38071        2017          3          8     50000       0           False   \n",
       "\n",
       "       model_bmw_x5  model_buick_enclave  model_cadillac_escalade  \\\n",
       "36479         False                False                    False   \n",
       "30942         False                False                    False   \n",
       "19752         False                False                    False   \n",
       "32121         False                False                    False   \n",
       "38071         False                False                    False   \n",
       "\n",
       "       model_chevrolet_camaro  ...  brand_gmc  brand_honda  brand_hyundai  \\\n",
       "36479                   False  ...      False        False          False   \n",
       "30942                   False  ...      False        False          False   \n",
       "19752                   False  ...      False        False          False   \n",
       "32121                   False  ...      False        False          False   \n",
       "38071                   False  ...      False        False          False   \n",
       "\n",
       "       brand_jeep  brand_kia  brand_nissan  brand_ram  brand_subaru  \\\n",
       "36479       False      False         False      False         False   \n",
       "30942       False      False         False      False         False   \n",
       "19752       False      False         False      False         False   \n",
       "32121       False      False         False      False         False   \n",
       "38071       False      False         False      False         False   \n",
       "\n",
       "       brand_toyota  brand_volkswagen  \n",
       "36479         False             False  \n",
       "30942         False             False  \n",
       "19752         False             False  \n",
       "32121         False              True  \n",
       "38071          True             False  \n",
       "\n",
       "[5 rows x 156 columns]"
      ]
     },
     "execution_count": 22,
     "metadata": {},
     "output_type": "execute_result"
    }
   ],
   "source": [
    "features_train.head()"
   ]
  },
  {
   "cell_type": "code",
   "execution_count": 23,
   "metadata": {},
   "outputs": [
    {
     "data": {
      "text/html": [
       "<div>\n",
       "<style scoped>\n",
       "    .dataframe tbody tr th:only-of-type {\n",
       "        vertical-align: middle;\n",
       "    }\n",
       "\n",
       "    .dataframe tbody tr th {\n",
       "        vertical-align: top;\n",
       "    }\n",
       "\n",
       "    .dataframe thead th {\n",
       "        text-align: right;\n",
       "    }\n",
       "</style>\n",
       "<table border=\"1\" class=\"dataframe\">\n",
       "  <thead>\n",
       "    <tr style=\"text-align: right;\">\n",
       "      <th></th>\n",
       "      <th>model_year</th>\n",
       "      <th>condition</th>\n",
       "      <th>cylinders</th>\n",
       "      <th>odometer</th>\n",
       "      <th>is_4wd</th>\n",
       "      <th>model_acura_tl</th>\n",
       "      <th>model_bmw_x5</th>\n",
       "      <th>model_buick_enclave</th>\n",
       "      <th>model_cadillac_escalade</th>\n",
       "      <th>model_chevrolet_camaro</th>\n",
       "      <th>...</th>\n",
       "      <th>brand_gmc</th>\n",
       "      <th>brand_honda</th>\n",
       "      <th>brand_hyundai</th>\n",
       "      <th>brand_jeep</th>\n",
       "      <th>brand_kia</th>\n",
       "      <th>brand_nissan</th>\n",
       "      <th>brand_ram</th>\n",
       "      <th>brand_subaru</th>\n",
       "      <th>brand_toyota</th>\n",
       "      <th>brand_volkswagen</th>\n",
       "    </tr>\n",
       "  </thead>\n",
       "  <tbody>\n",
       "  </tbody>\n",
       "</table>\n",
       "<p>0 rows × 156 columns</p>\n",
       "</div>"
      ],
      "text/plain": [
       "Empty DataFrame\n",
       "Columns: [model_year, condition, cylinders, odometer, is_4wd, model_acura_tl, model_bmw_x5, model_buick_enclave, model_cadillac_escalade, model_chevrolet_camaro, model_chevrolet_camaro_lt_coupe_2d, model_chevrolet_colorado, model_chevrolet_corvette, model_chevrolet_cruze, model_chevrolet_equinox, model_chevrolet_impala, model_chevrolet_malibu, model_chevrolet_silverado, model_chevrolet_silverado_1500, model_chevrolet_silverado_1500_crew, model_chevrolet_silverado_2500hd, model_chevrolet_silverado_3500hd, model_chevrolet_suburban, model_chevrolet_tahoe, model_chevrolet_trailblazer, model_chevrolet_traverse, model_chrysler_200, model_chrysler_300, model_chrysler_town_&_country, model_dodge_charger, model_dodge_dakota, model_dodge_grand_caravan, model_ford_econoline, model_ford_edge, model_ford_escape, model_ford_expedition, model_ford_explorer, model_ford_f-150, model_ford_f-250, model_ford_f-250_sd, model_ford_f-250_super_duty, model_ford_f-350_sd, model_ford_f150, model_ford_f150_supercrew_cab_xlt, model_ford_f250, model_ford_f250_super_duty, model_ford_f350, model_ford_f350_super_duty, model_ford_focus, model_ford_focus_se, model_ford_fusion, model_ford_fusion_se, model_ford_mustang, model_ford_mustang_gt_coupe_2d, model_ford_ranger, model_ford_taurus, model_gmc_acadia, model_gmc_sierra, model_gmc_sierra_1500, model_gmc_sierra_2500hd, model_gmc_yukon, model_honda_accord, model_honda_civic, model_honda_civic_lx, model_honda_cr-v, model_honda_odyssey, model_honda_pilot, model_hyundai_elantra, model_hyundai_santa_fe, model_hyundai_sonata, model_jeep_cherokee, model_jeep_grand_cherokee, model_jeep_grand_cherokee_laredo, model_jeep_liberty, model_jeep_wrangler, model_jeep_wrangler_unlimited, model_kia_sorento, model_kia_soul, model_nissan_altima, model_nissan_frontier, model_nissan_frontier_crew_cab_sv, model_nissan_maxima, model_nissan_murano, model_nissan_rogue, model_nissan_sentra, model_nissan_versa, model_ram_1500, model_ram_2500, model_ram_3500, model_subaru_forester, model_subaru_impreza, model_subaru_outback, model_toyota_4runner, model_toyota_camry, model_toyota_camry_le, model_toyota_corolla, model_toyota_highlander, model_toyota_prius, model_toyota_rav4, model_toyota_sienna, ...]\n",
       "Index: []\n",
       "\n",
       "[0 rows x 156 columns]"
      ]
     },
     "execution_count": 23,
     "metadata": {},
     "output_type": "execute_result"
    }
   ],
   "source": [
    "dft = features_encoded.drop(features_encoded.index)\n",
    "dft.head()"
   ]
  },
  {
   "cell_type": "code",
   "execution_count": 24,
   "metadata": {},
   "outputs": [],
   "source": [
    "input_model = [\"bmw\",\"bmw x5\",2011,0,6,\"gas\",\"automatic\",\"SUV\",\"unknown\",1,10000]"
   ]
  },
  {
   "cell_type": "code",
   "execution_count": 25,
   "metadata": {},
   "outputs": [
    {
     "data": {
      "text/plain": [
       "['brand_bmw',\n",
       " 'model_bmw x5',\n",
       " 'model_year',\n",
       " 'condition',\n",
       " 'cylinders',\n",
       " 'fuel_gas',\n",
       " 'transmission_automatic',\n",
       " 'type_SUV',\n",
       " 'paint_color_unknown',\n",
       " 'is_4wd',\n",
       " 'odometer']"
      ]
     },
     "execution_count": 25,
     "metadata": {},
     "output_type": "execute_result"
    }
   ],
   "source": [
    "columns_user = [f'brand_{input_model[0]}', f'model_{input_model[1]}', 'model_year', 'condition', 'cylinders', f'fuel_{input_model[5]}', f'transmission_{input_model[6]}', f'type_{input_model[7]}', f'paint_color_{input_model[8]}', 'is_4wd', 'odometer']\n",
    "columns_user"
   ]
  },
  {
   "cell_type": "code",
   "execution_count": 26,
   "metadata": {},
   "outputs": [
    {
     "name": "stderr",
     "output_type": "stream",
     "text": [
      "C:\\Users\\Henrique\\AppData\\Local\\Temp\\ipykernel_11452\\3536925992.py:3: FutureWarning: Downcasting object dtype arrays on .fillna, .ffill, .bfill is deprecated and will change in a future version. Call result.infer_objects(copy=False) instead. To opt-in to the future behavior, set `pd.set_option('future.no_silent_downcasting', True)`\n",
      "  df_final = df_final.fillna(False)\n"
     ]
    },
    {
     "data": {
      "text/html": [
       "<div>\n",
       "<style scoped>\n",
       "    .dataframe tbody tr th:only-of-type {\n",
       "        vertical-align: middle;\n",
       "    }\n",
       "\n",
       "    .dataframe tbody tr th {\n",
       "        vertical-align: top;\n",
       "    }\n",
       "\n",
       "    .dataframe thead th {\n",
       "        text-align: right;\n",
       "    }\n",
       "</style>\n",
       "<table border=\"1\" class=\"dataframe\">\n",
       "  <thead>\n",
       "    <tr style=\"text-align: right;\">\n",
       "      <th></th>\n",
       "      <th>model_year</th>\n",
       "      <th>condition</th>\n",
       "      <th>cylinders</th>\n",
       "      <th>odometer</th>\n",
       "      <th>is_4wd</th>\n",
       "      <th>model_acura_tl</th>\n",
       "      <th>model_bmw_x5</th>\n",
       "      <th>model_buick_enclave</th>\n",
       "      <th>model_cadillac_escalade</th>\n",
       "      <th>model_chevrolet_camaro</th>\n",
       "      <th>...</th>\n",
       "      <th>brand_honda</th>\n",
       "      <th>brand_hyundai</th>\n",
       "      <th>brand_jeep</th>\n",
       "      <th>brand_kia</th>\n",
       "      <th>brand_nissan</th>\n",
       "      <th>brand_ram</th>\n",
       "      <th>brand_subaru</th>\n",
       "      <th>brand_toyota</th>\n",
       "      <th>brand_volkswagen</th>\n",
       "      <th>model_bmw x5</th>\n",
       "    </tr>\n",
       "  </thead>\n",
       "  <tbody>\n",
       "    <tr>\n",
       "      <th>0</th>\n",
       "      <td>2011</td>\n",
       "      <td>0</td>\n",
       "      <td>6</td>\n",
       "      <td>10000</td>\n",
       "      <td>1</td>\n",
       "      <td>False</td>\n",
       "      <td>False</td>\n",
       "      <td>False</td>\n",
       "      <td>False</td>\n",
       "      <td>False</td>\n",
       "      <td>...</td>\n",
       "      <td>False</td>\n",
       "      <td>False</td>\n",
       "      <td>False</td>\n",
       "      <td>False</td>\n",
       "      <td>False</td>\n",
       "      <td>False</td>\n",
       "      <td>False</td>\n",
       "      <td>False</td>\n",
       "      <td>False</td>\n",
       "      <td>bmw x5</td>\n",
       "    </tr>\n",
       "  </tbody>\n",
       "</table>\n",
       "<p>1 rows × 157 columns</p>\n",
       "</div>"
      ],
      "text/plain": [
       "   model_year  condition  cylinders  odometer  is_4wd  model_acura_tl  \\\n",
       "0        2011          0          6     10000       1           False   \n",
       "\n",
       "   model_bmw_x5  model_buick_enclave  model_cadillac_escalade  \\\n",
       "0         False                False                    False   \n",
       "\n",
       "   model_chevrolet_camaro  ...  brand_honda  brand_hyundai  brand_jeep  \\\n",
       "0                   False  ...        False          False       False   \n",
       "\n",
       "   brand_kia  brand_nissan  brand_ram  brand_subaru  brand_toyota  \\\n",
       "0      False         False      False         False         False   \n",
       "\n",
       "   brand_volkswagen  model_bmw x5  \n",
       "0             False        bmw x5  \n",
       "\n",
       "[1 rows x 157 columns]"
      ]
     },
     "execution_count": 26,
     "metadata": {},
     "output_type": "execute_result"
    }
   ],
   "source": [
    "dftt = pd.DataFrame([input_model], columns=columns_user)\n",
    "df_final = pd.concat([dft, dftt], axis=0)\n",
    "df_final = df_final.fillna(False)\n",
    "df_final.head()"
   ]
  }
 ],
 "metadata": {
  "kernelspec": {
   "display_name": "Vehicles",
   "language": "python",
   "name": "python3"
  },
  "language_info": {
   "codemirror_mode": {
    "name": "ipython",
    "version": 3
   },
   "file_extension": ".py",
   "mimetype": "text/x-python",
   "name": "python",
   "nbconvert_exporter": "python",
   "pygments_lexer": "ipython3",
   "version": "3.11.11"
  }
 },
 "nbformat": 4,
 "nbformat_minor": 2
}
